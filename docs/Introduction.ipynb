{
 "cells": [
  {
   "cell_type": "markdown",
   "metadata": {},
   "source": [
    "In this section we will define complex numbers as an extension of $\\mathbb{R}$ as the following\n",
    "$$\\mathbb{C} \\cong \\mathbb{R}[x] / \\langle x^2+1 \\rangle = \\{a+bx+\\langle x^2+1 \\rangle\\ | ~\n",
    "a,b \\in \\mathbb{R} \\}$$"
   ]
  },
  {
   "cell_type": "code",
   "execution_count": 1,
   "metadata": {
    "slideshow": {
     "slide_type": "-"
    }
   },
   "outputs": [],
   "source": [
    "from sympy import *\n",
    "init_printing()"
   ]
  },
  {
   "cell_type": "code",
   "execution_count": 24,
   "metadata": {},
   "outputs": [],
   "source": [
    "a,b,c,d = symbols(\"a b c d\")\n",
    "x,y = symbols(\"x y\")"
   ]
  },
  {
   "cell_type": "markdown",
   "metadata": {},
   "source": [
    "## Algebra of Complex Number\n",
    "Addition of two complex numbers are done as follows"
   ]
  },
  {
   "cell_type": "code",
   "execution_count": 29,
   "metadata": {},
   "outputs": [
    {
     "data": {
      "image/png": "[encoded data removed]",
      "text/latex": [
       "$$a + b x + c + d x = a + c + x \\left(b + d\\right)$$"
      ],
      "text/plain": [
       "a + b⋅x + c + d⋅x = a + c + x⋅(b + d)"
      ]
     },
     "execution_count": 29,
     "metadata": {},
     "output_type": "execute_result"
    }
   ],
   "source": [
    "ad = (a+b*x)+(c+d*x)\n",
    "Eq(ad, collect(ad,x))"
   ]
  },
  {
   "cell_type": "markdown",
   "metadata": {},
   "source": [
    "Multiplication is done as follows"
   ]
  },
  {
   "cell_type": "code",
   "execution_count": 12,
   "metadata": {},
   "outputs": [
    {
     "data": {
      "image/png": "[encoded data removed]",
      "text/latex": [
       "$$\\left(a + b x\\right) \\left(c + d x\\right) = a c + a d x + b c x + b d x^{2}$$"
      ],
      "text/plain": [
       "                                                 2\n",
       "(a + b⋅x)⋅(c + d⋅x) = a⋅c + a⋅d⋅x + b⋅c⋅x + b⋅d⋅x "
      ]
     },
     "execution_count": 12,
     "metadata": {},
     "output_type": "execute_result"
    }
   ],
   "source": [
    "mul = (a+b*x)*(c+d*x)\n",
    "Eq(mul, expand(mul))"
   ]
  },
  {
   "cell_type": "code",
   "execution_count": 23,
   "metadata": {},
   "outputs": [
    {
     "data": {
      "image/png": "[encoded data removed]",
      "text/latex": [
       "$$a c - b d + x \\left(a d + b c\\right)$$"
      ],
      "text/plain": [
       "a⋅c - b⋅d + x⋅(a⋅d + b⋅c)"
      ]
     },
     "execution_count": 23,
     "metadata": {},
     "output_type": "execute_result"
    }
   ],
   "source": [
    "irr = x**2+1\n",
    "quo, rem = pdiv(mul,irr)\n",
    "collect(rem,x)"
   ]
  },
  {
   "cell_type": "code",
   "execution_count": null,
   "metadata": {},
   "outputs": [],
   "source": []
  }
 ],
 "metadata": {
  "kernelspec": {
   "display_name": "Python 3",
   "language": "python",
   "name": "python3"
  },
  "language_info": {
   "codemirror_mode": {
    "name": "ipython",
    "version": 3
   },
   "file_extension": ".py",
   "mimetype": "text/x-python",
   "name": "python",
   "nbconvert_exporter": "python",
   "pygments_lexer": "ipython3",
   "version": "3.7.2"
  }
 },
 "nbformat": 4,
 "nbformat_minor": 2
}
